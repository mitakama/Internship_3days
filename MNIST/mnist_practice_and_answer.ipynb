{
 "cells": [
  {
   "cell_type": "code",
   "execution_count": null,
   "id": "6a90e8cc",
   "metadata": {},
   "outputs": [],
   "source": [
    "#必要なライブラリをインポート\n",
    "import torch\n",
    "import torch.nn as nn\n",
    "import torch.nn.functional as F\n",
    "import torch.optim as optim\n",
    "import torchvision\n",
    "import torchvision.transforms as transforms\n",
    "\n",
    "from matplotlib import pyplot as plt"
   ]
  },
  {
   "cell_type": "code",
   "execution_count": null,
   "id": "76630daf",
   "metadata": {},
   "outputs": [],
   "source": [
    "def setup_all_seed(seed=0):\n",
    "    # numpyに関係する乱数シードの設定\n",
    "    np.random.seed(seed)\n",
    "    \n",
    "    # pytorch\n",
    "    torch.manual_seed(seed)\n",
    "    torch.cuda.manual_seed(seed)\n",
    "    torch.backends.cudnn.deterministic = True"
   ]
  },
  {
   "cell_type": "code",
   "execution_count": null,
   "id": "528076f5",
   "metadata": {},
   "outputs": [],
   "source": [
    "#訓練データをテンソルのデータにセット\n",
    "train_dataset = torchvision.datasets.MNIST(root='./data',\n",
    "                                           train=True,\n",
    "                                           transform=transforms.ToTensor(),\n",
    "                                           download = True)\n",
    "#検証データをテンソルのデータにセット\n",
    "test_dataset = torchvision.datasets.MNIST(root='./data',\n",
    "                                           train=False,\n",
    "                                           transform=transforms.ToTensor(),\n",
    "                                           download = True)"
   ]
  },
  {
   "cell_type": "code",
   "execution_count": null,
   "id": "44851a06",
   "metadata": {
    "scrolled": false
   },
   "outputs": [],
   "source": [
    "#fig, label = train_dataset[0]\n",
    "#print(\"fig : {}, label : {}\".format(fig,label))\n",
    "#print(\"fig.size() : {}\".format(fig.size()))\n",
    "#plt.imshow(fig.view(-1,28), cmap='gray')"
   ]
  },
  {
   "cell_type": "code",
   "execution_count": null,
   "id": "54c16e48",
   "metadata": {},
   "outputs": [],
   "source": [
    "batch_size = 256\n",
    "\n",
    "#訓練データ読み込み\n",
    "train_loader = torch.utils.data.DataLoader(dataset=train_dataset,\n",
    "                                           batch_size=batch_size,\n",
    "                                           shuffle=True)\n",
    "\n",
    "#検証データ読み込み\n",
    "test_loader = torch.utils.data.DataLoader(dataset=test_dataset,\n",
    "                                           batch_size=batch_size,\n",
    "                                           shuffle=True)"
   ]
  },
  {
   "cell_type": "code",
   "execution_count": null,
   "id": "a3b2ea9a",
   "metadata": {},
   "outputs": [],
   "source": [
    "#ニューラルネットワークを作成\n",
    "\n",
    "class Net(nn.Module):\n",
    "    def __init__(self, input_size, hidden1_size, hidden2_size, output_size):\n",
    "        super(Net, self).__init__()\n",
    "        self.fc1 = nn.Linear(input_size, hidden1_size)\n",
    "        self.fc2 = nn.Linear(hidden1_size, hidden2_size)\n",
    "        self.fc3 = nn.Linear(hidden2_size, output_size)\n",
    "\n",
    "    def forward(self, x): # x : 入力\n",
    "        z1 = F.relu(self.fc1(x))\n",
    "        z2 = F.relu(self.fc2(z1))\n",
    "        y = self.fc3(z2)\n",
    "        return y"
   ]
  },
  {
   "cell_type": "code",
   "execution_count": null,
   "id": "186d84a1",
   "metadata": {},
   "outputs": [],
   "source": [
    "#モデルのインスタンス化\n",
    "\n",
    "input_size = 28*28\n",
    "hidden1_size = 1024\n",
    "hidden2_size = 512\n",
    "output_size = 10\n",
    "\n",
    "device = 'cuda' if torch.cuda.is_available() else 'cpu'\n",
    "model = Net(input_size, hidden1_size, hidden2_size, output_size).to(device)\n",
    "print(model)"
   ]
  },
  {
   "cell_type": "code",
   "execution_count": null,
   "id": "0a6ad6f1",
   "metadata": {},
   "outputs": [],
   "source": [
    "# 損失関数　criterion：基準\n",
    "# CrossEntropyLoss：交差エントロピー誤差関数\n",
    "\n",
    "criterion = nn.CrossEntropyLoss()\n",
    "\n",
    "# 最適化法の指定　optimizer：最適化\n",
    "# SGD：確率的勾配降下法\n",
    "#SGD      : optim.SGD\n",
    "#Adagrad  : optim.Adagrad\n",
    "#RMSprop  : optim.RMSprop\n",
    "#Adadelta : optim.Adadelta\n",
    "#Adam     : optim.Adam\n",
    "#AdamW    : optim.AdamW\n",
    "\n",
    "\n",
    "optimizer = optim.SGD(model.parameters(), lr=0.01)"
   ]
  },
  {
   "cell_type": "code",
   "execution_count": null,
   "id": "2895aca1",
   "metadata": {},
   "outputs": [],
   "source": [
    "# 1 epochの訓練を行う関数の定義\n",
    "\n",
    "def train_model(model, train_loader, criterion, optimizer, device='cpu'):\n",
    "\n",
    "    train_loss = 0.0 #学習損失\n",
    "    num_train = 0    #\n",
    "    \n",
    "    train_accuracy = 0\n",
    "\n",
    "    # 学習モデルに変換\n",
    "    model.train()\n",
    "\n",
    "    for i, (images, labels) in enumerate(train_loader):\n",
    "        # batch数をカウント\n",
    "        num_train += len(labels)\n",
    "\n",
    "        images, labels = images.view(-1, 28*28).to(device), labels.to(device)\n",
    "\n",
    "        # 勾配を初期化\n",
    "        optimizer.zero_grad()\n",
    "\n",
    "        # データを入力して予測値を計算\n",
    "        outputs = model(images)\n",
    "\n",
    "        # 損失の算出\n",
    "        loss = criterion(outputs, labels)\n",
    "\n",
    "        # 誤差逆伝播(勾配を計算)\n",
    "        loss.backward()\n",
    "\n",
    "        # パラメータの更新\n",
    "        optimizer.step()\n",
    "\n",
    "        # lossを加算\n",
    "        train_loss += loss.item()\n",
    "        \n",
    "           \n",
    "    # lossの平均値を取る\n",
    "    train_loss = train_loss / num_train\n",
    "     \n",
    "\n",
    "    return train_loss"
   ]
  },
  {
   "cell_type": "code",
   "execution_count": null,
   "id": "db8e9630",
   "metadata": {},
   "outputs": [],
   "source": [
    "# 検証データによるっモデル評価を行う関数の定義\n",
    "\n",
    "def test_model(model, test_loader, criterion, optimizer, device='cpu'):\n",
    "\n",
    "    test_loss = 0.0\n",
    "    num_test = 0\n",
    "    \n",
    "    test_accuracy = 0\n",
    "\n",
    "    # modelを評価モードに変更\n",
    "    model.eval()\n",
    "\n",
    "    with torch.no_grad(): # 勾配計算の無効化\n",
    "        for i, (images, labels) in enumerate(test_loader):\n",
    "            num_test += len(labels)\n",
    "            images, labels = images.view(-1, 28*28).to(device), labels.to(device)\n",
    "            outputs = model(images)\n",
    "            loss = criterion(outputs, labels)\n",
    "            test_loss += loss.item()\n",
    "        \n",
    "        # lossの平均値を取る\n",
    "        test_loss = test_loss / num_test\n",
    "    return test_loss"
   ]
  },
  {
   "cell_type": "code",
   "execution_count": null,
   "id": "3cb76616",
   "metadata": {},
   "outputs": [],
   "source": [
    "def lerning(model, train_loader, test_loader, criterion, opimizer, num_epochs, device='cpu'):\n",
    "\n",
    "    train_loss_list = []\n",
    "    test_loss_list = []\n",
    "\n",
    "    # epoch数分繰り返す\n",
    "    for epoch in range(1, num_epochs+1, 1):\n",
    "\n",
    "        train_loss = train_model(model, train_loader, criterion, optimizer, device=device)\n",
    "        test_loss = test_model(model, test_loader, criterion, optimizer, device=device)\n",
    "        \n",
    "        print(\"--------\")\n",
    "        print(\"Epoch: {}/{}\".format(epoch,num_epochs))      \n",
    "        print(\"Train_Loss: {:.4f}\".format(train_loss))\n",
    "        print(\"Test_Loss: {:.4f}\".format(test_loss))\n",
    "\n",
    "        train_loss_list.append(train_loss)\n",
    "        test_loss_list.append(test_loss)\n",
    "        \n",
    "        \n",
    "        \n",
    "    return train_loss_list,test_loss_list"
   ]
  },
  {
   "cell_type": "code",
   "execution_count": null,
   "id": "0d1e5030",
   "metadata": {},
   "outputs": [],
   "source": [
    "num_epochs = 10\n",
    "train_loss_list, test_loss_list = lerning(model, train_loader, test_loader, criterion, optimizer, num_epochs, device=device)"
   ]
  },
  {
   "cell_type": "code",
   "execution_count": null,
   "id": "06614a91",
   "metadata": {},
   "outputs": [],
   "source": [
    "plt.plot(range(len(train_loss_list)), train_loss_list, c='b',linestyle='-', label='train loss')\n",
    "plt.plot(range(len(test_loss_list)), test_loss_list, c='r', linestyle='--',label='test loss')\n",
    "plt.xlabel(\"epoch\")\n",
    "plt.ylabel(\"loss\")\n",
    "plt.legend()\n",
    "plt.grid()\n",
    "plt.show()"
   ]
  },
  {
   "cell_type": "code",
   "execution_count": null,
   "id": "a5178d43",
   "metadata": {},
   "outputs": [],
   "source": [
    "plt.figure(figsize=(20, 10))\n",
    "for i in range(10):\n",
    "    image, label = test_dataset[i]\n",
    "    image = image.view(-1, 28*28).to(device)\n",
    "\n",
    "    # 推論\n",
    "    prediction_label = torch.argmax(model(image))\n",
    "\n",
    "    ax = plt.subplot(1, 10, i+1)\n",
    "\n",
    "    plt.imshow(image.detach().to('cpu').numpy().reshape(28, 28), cmap='gray')\n",
    "    ax.axis('off')\n",
    "    ax.set_title('label : {}\\n Prediction : {}'.format(label, prediction_label), fontsize=15)\n",
    "plt.show()"
   ]
  }
 ],
 "metadata": {
  "kernelspec": {
   "display_name": "Python 3 (ipykernel)",
   "language": "python",
   "name": "python3"
  },
  "language_info": {
   "codemirror_mode": {
    "name": "ipython",
    "version": 3
   },
   "file_extension": ".py",
   "mimetype": "text/x-python",
   "name": "python",
   "nbconvert_exporter": "python",
   "pygments_lexer": "ipython3",
   "version": "3.10.9"
  }
 },
 "nbformat": 4,
 "nbformat_minor": 5
}
