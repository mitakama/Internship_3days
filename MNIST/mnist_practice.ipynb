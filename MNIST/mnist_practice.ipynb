{
 "cells": [
  {
   "cell_type": "code",
   "execution_count": null,
   "id": "6a90e8cc",
   "metadata": {},
   "outputs": [],
   "source": [
    "#必要なライブラリをインポート\n",
    "import torch\n",
    "import torch.nn as nn\n",
    "import torch.nn.functional as F\n",
    "import torch.optim as optim\n",
    "import torchvision\n",
    "import torchvision.transforms as transforms\n",
    "\n",
    "from matplotlib import pyplot as plt"
   ]
  },
  {
   "cell_type": "code",
   "execution_count": null,
   "id": "76630daf",
   "metadata": {},
   "outputs": [],
   "source": [
    "def setup_all_seed(seed=0):\n",
    "    # numpyに関係する乱数シードの設定\n",
    "    np.random.seed(seed)\n",
    "    \n",
    "    # pytorch\n",
    "    torch.manual_seed(seed)\n",
    "    torch.cuda.manual_seed(seed)\n",
    "    torch.backends.cudnn.deterministic = True"
   ]
  },
  {
   "cell_type": "code",
   "execution_count": null,
   "id": "528076f5",
   "metadata": {},
   "outputs": [],
   "source": [
    "#訓練データをテンソルのデータにセット\n",
    "train_dataset = torchvision.datasets.MNIST(root='./data',\n",
    "                                           train=True,\n",
    "                                           transform=transforms.ToTensor(),\n",
    "                                           download = True)\n",
    "#検証データをテンソルのデータにセット\n",
    "test_dataset = torchvision.datasets.MNIST(root='./data',\n",
    "                                           train=False,\n",
    "                                           transform=transforms.ToTensor(),\n",
    "                                           download = True)"
   ]
  },
  {
   "cell_type": "code",
   "execution_count": null,
   "id": "44851a06",
   "metadata": {
    "scrolled": false
   },
   "outputs": [],
   "source": [
    "fig, label = train_dataset[0]\n",
    "#print(\"fig : {}, label : {}\".format(fig,label))\n",
    "print(\"fig.size() : {}\".format(fig.size()))\n",
    "plt.imshow(fig.view(-1,28), cmap='gray')"
   ]
  },
  {
   "cell_type": "code",
   "execution_count": null,
   "id": "54c16e48",
   "metadata": {},
   "outputs": [],
   "source": [
    "batch_size = 256\n",
    "\n",
    "#訓練データ読み込み\n",
    "\n",
    "\n",
    "#検証データ読み込み\n"
   ]
  },
  {
   "cell_type": "code",
   "execution_count": null,
   "id": "a3b2ea9a",
   "metadata": {},
   "outputs": [],
   "source": [
    "#ニューラルネットワークを作成\n",
    "\n"
   ]
  },
  {
   "cell_type": "code",
   "execution_count": null,
   "id": "186d84a1",
   "metadata": {},
   "outputs": [],
   "source": [
    "#モデルのインスタンス化\n",
    "\n"
   ]
  },
  {
   "cell_type": "code",
   "execution_count": null,
   "id": "0a6ad6f1",
   "metadata": {},
   "outputs": [],
   "source": [
    "# 損失関数の定義\n",
    "\n",
    "\n",
    "#最適化関数の定義\n",
    "\n"
   ]
  },
  {
   "cell_type": "code",
   "execution_count": null,
   "id": "2895aca1",
   "metadata": {},
   "outputs": [],
   "source": [
    "# 1 epochの訓練を行う関数の定義\n",
    "\n",
    "def train_model(model, train_loader, criterion, optimizer, device='cpu'):\n",
    "\n",
    "    train_loss = 0.0 #学習損失\n",
    "    num_train = 0    #\n",
    "\n",
    "    # 学習モデルに変換\n",
    "    model.train()\n",
    "\n",
    "    for i, (images, labels) in enumerate(train_loader):\n",
    "        # batch数をカウント\n",
    "        num_train += len(labels)\n",
    "\n",
    "        images, labels = images.view(-1, 28*28).to(device), labels.to(device)\n",
    "\n",
    "        # 勾配を初期化\n",
    "\n",
    "\n",
    "        # データを入力して予測値を計算\n",
    "\n",
    "\n",
    "        # 損失の算出\n",
    "\n",
    "\n",
    "        # 誤差逆伝播(勾配を計算)\n",
    "\n",
    "\n",
    "        # パラメータの更新\n",
    "\n",
    "\n",
    "        # ミニバッチごとの損失を蓄積\n",
    "\n",
    "    \n",
    "    # lossの平均値を取る\n",
    "\n",
    "\n",
    "    return train_loss"
   ]
  },
  {
   "cell_type": "code",
   "execution_count": null,
   "id": "db8e9630",
   "metadata": {},
   "outputs": [],
   "source": [
    "# 検証データによるモデル評価を行う関数の定義\n",
    "\n",
    "def test_model(model, test_loader, criterion, optimizer, device='cpu'):\n",
    "\n",
    "   \n",
    "    # modelを評価モードに変更\n",
    "\n",
    "\n",
    "    with torch.no_grad(): # 勾配計算の無効化\n",
    "        for i, (images, labels) in enumerate(test_loader):\n",
    "            num_test += len(labels)\n",
    "            images, labels = images.view(-1, 28*28).to(device), labels.to(device)\n",
    "            #データを入力して予測値を計算\n",
    "           \n",
    "            #損失を計算\n",
    "            \n",
    "            #ミニバッチごとの損失を備蓄\n",
    "            \n",
    "        \n",
    "        # lossの平均値を取る\n",
    "        \n",
    "    return test_loss"
   ]
  },
  {
   "cell_type": "code",
   "execution_count": null,
   "id": "3cb76616",
   "metadata": {},
   "outputs": [],
   "source": [
    "def lerning(model, train_loader, test_loader, criterion, opimizer, num_epochs, device='cpu'):\n",
    "\n",
    "     ## 学習に必要な空リストを作成\n",
    "    train_loss_list = []     #学習損失\n",
    "    test_loss_list = []      #評価損失\n",
    "\n",
    "    # epoch数分繰り返す\n",
    "        \n",
    "\n",
    "        #リストに値を追加\n",
    "\n",
    "    \n",
    "    return train_loss_list, test_loss_list"
   ]
  },
  {
   "cell_type": "code",
   "execution_count": null,
   "id": "0d1e5030",
   "metadata": {},
   "outputs": [],
   "source": [
    "#学習実行\n"
   ]
  },
  {
   "cell_type": "code",
   "execution_count": null,
   "id": "06614a91",
   "metadata": {},
   "outputs": [],
   "source": [
    "#結果のプロット"
   ]
  },
  {
   "cell_type": "code",
   "execution_count": null,
   "id": "a5178d43",
   "metadata": {},
   "outputs": [],
   "source": [
    "#精度確認\n",
    "\n",
    "plt.figure(figsize=(20, 10))\n",
    "for i in range(10):\n",
    "    image, label = test_dataset[i]\n",
    "    image = image.view(-1, 28*28).to(device)\n",
    "\n",
    "    # 推論\n",
    "    prediction_label = torch.argmax(model(image))\n",
    "\n",
    "    ax = plt.subplot(1, 10, i+1)\n",
    "\n",
    "    plt.imshow(image.detach().to('cpu').numpy().reshape(28, 28), cmap='gray')\n",
    "    ax.axis('off')\n",
    "    ax.set_title('label : {}\\n Prediction : {}'.format(label, prediction_label), fontsize=15)\n",
    "plt.show()"
   ]
  }
 ],
 "metadata": {
  "kernelspec": {
   "display_name": "Python 3 (ipykernel)",
   "language": "python",
   "name": "python3"
  },
  "language_info": {
   "codemirror_mode": {
    "name": "ipython",
    "version": 3
   },
   "file_extension": ".py",
   "mimetype": "text/x-python",
   "name": "python",
   "nbconvert_exporter": "python",
   "pygments_lexer": "ipython3",
   "version": "3.10.9"
  }
 },
 "nbformat": 4,
 "nbformat_minor": 5
}
